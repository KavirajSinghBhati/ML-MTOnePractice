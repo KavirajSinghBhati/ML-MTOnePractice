{
 "cells": [
  {
   "cell_type": "code",
   "execution_count": 1,
   "id": "327e3caa",
   "metadata": {},
   "outputs": [],
   "source": [
    "import numpy as np\n",
    "import pandas as pd"
   ]
  },
  {
   "cell_type": "code",
   "execution_count": 2,
   "id": "863de62a",
   "metadata": {},
   "outputs": [],
   "source": [
    "data = pd.read_csv(\"data-Copy1.csv\")"
   ]
  },
  {
   "cell_type": "code",
   "execution_count": 3,
   "id": "c822c81c",
   "metadata": {},
   "outputs": [
    {
     "name": "stdout",
     "output_type": "stream",
     "text": [
      "      Time Weather Temperature Company Humidity    Wind Goes\n",
      "0  Morning   Sunny        Warm     Yes     Mild  Strong  Yes\n",
      "1  Evening   Rainy        Cold      No     Mild  Normal   No\n",
      "2  Morning   Sunny    Moderate     Yes   Normal  Normal  Yes\n",
      "3  Evening   Sunny        Cold     Yes     High  Strong  Yes\n"
     ]
    }
   ],
   "source": [
    "print(data)"
   ]
  },
  {
   "cell_type": "code",
   "execution_count": 4,
   "id": "712154cf",
   "metadata": {},
   "outputs": [],
   "source": [
    "attributes = np.array(data.iloc[:, :-1])"
   ]
  },
  {
   "cell_type": "code",
   "execution_count": 5,
   "id": "69f4d767",
   "metadata": {},
   "outputs": [
    {
     "name": "stdout",
     "output_type": "stream",
     "text": [
      "[['Morning' 'Sunny' 'Warm' 'Yes' 'Mild' 'Strong']\n",
      " ['Evening' 'Rainy' 'Cold' 'No' 'Mild' 'Normal']\n",
      " ['Morning' 'Sunny' 'Moderate' 'Yes' 'Normal' 'Normal']\n",
      " ['Evening' 'Sunny' 'Cold' 'Yes' 'High' 'Strong']]\n"
     ]
    }
   ],
   "source": [
    "print(attributes)"
   ]
  },
  {
   "cell_type": "code",
   "execution_count": 6,
   "id": "2c4cdf89",
   "metadata": {},
   "outputs": [],
   "source": [
    "# attributes => take all except last col"
   ]
  },
  {
   "cell_type": "code",
   "execution_count": 7,
   "id": "1cb84dd7",
   "metadata": {},
   "outputs": [],
   "source": [
    "target = np.array(data.iloc[:, -1])"
   ]
  },
  {
   "cell_type": "code",
   "execution_count": 8,
   "id": "f531353d",
   "metadata": {},
   "outputs": [
    {
     "name": "stdout",
     "output_type": "stream",
     "text": [
      "['Yes' 'No' 'Yes' 'Yes']\n"
     ]
    }
   ],
   "source": [
    "print(target)"
   ]
  },
  {
   "cell_type": "code",
   "execution_count": 9,
   "id": "169f4991",
   "metadata": {},
   "outputs": [],
   "source": [
    "# target => take last col"
   ]
  },
  {
   "cell_type": "code",
   "execution_count": 11,
   "id": "458adba9",
   "metadata": {},
   "outputs": [],
   "source": [
    "def finds(c, t):\n",
    "    for i, val in enumerate(t):\n",
    "        if val == \"Yes\":\n",
    "            specific_hypothesis=c[i].copy()\n",
    "        break\n",
    "    for i, val in enumerate(c):\n",
    "        if t[i] == \"Yes\":\n",
    "            for x in  range(len(specific_hypothesis)):\n",
    "                if val[x] != specific_hypothesis[x]:\n",
    "                    specific_hypothesis[x] = \"?\"\n",
    "                else:\n",
    "                    pass\n",
    "    return specific_hypothesis"
   ]
  },
  {
   "cell_type": "code",
   "execution_count": 12,
   "id": "a5c69f3e",
   "metadata": {},
   "outputs": [
    {
     "name": "stdout",
     "output_type": "stream",
     "text": [
      "['?' 'Sunny' '?' 'Yes' '?' '?']\n"
     ]
    }
   ],
   "source": [
    "print(finds(attributes, target))"
   ]
  },
  {
   "cell_type": "code",
   "execution_count": null,
   "id": "13d23fef",
   "metadata": {},
   "outputs": [],
   "source": []
  }
 ],
 "metadata": {
  "kernelspec": {
   "display_name": "Python 3",
   "language": "python",
   "name": "python3"
  },
  "language_info": {
   "codemirror_mode": {
    "name": "ipython",
    "version": 3
   },
   "file_extension": ".py",
   "mimetype": "text/x-python",
   "name": "python",
   "nbconvert_exporter": "python",
   "pygments_lexer": "ipython3",
   "version": "3.8.8"
  }
 },
 "nbformat": 4,
 "nbformat_minor": 5
}
